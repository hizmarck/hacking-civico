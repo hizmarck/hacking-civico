{
  "nbformat": 4,
  "nbformat_minor": 0,
  "metadata": {
    "colab": {
      "name": "02-python-101.ipynb",
      "provenance": [],
      "collapsed_sections": [],
      "authorship_tag": "ABX9TyNMiFVUWWObK1+i1OVUshz8",
      "include_colab_link": true
    },
    "kernelspec": {
      "name": "python3",
      "display_name": "Python 3"
    }
  },
  "cells": [
    {
      "cell_type": "markdown",
      "metadata": {
        "id": "view-in-github",
        "colab_type": "text"
      },
      "source": [
        "<a href=\"https://colab.research.google.com/github/hizmarck/hacking-civico/blob/master/notebooks/02_python_101.ipynb\" target=\"_parent\"><img src=\"https://colab.research.google.com/assets/colab-badge.svg\" alt=\"Open In Colab\"/></a>"
      ]
    },
    {
      "cell_type": "markdown",
      "metadata": {
        "id": "z1IoYihhO6Dm",
        "colab_type": "text"
      },
      "source": [
        "# Primero:\n",
        "\n",
        "**Densidad de población y relaciones con gatos públicos.**\n",
        "\n",
        "Los datos fueron consultados desde https://www.inegi.org.mx/ de acuerdo al censo de población del 2015.\n",
        "\n",
        "*Número de habitantes:*\n",
        "\n",
        "\n",
        "* México = 119, 938 473 habitantes.\n",
        "* Yucatán = 2, 097 175 habitantes.\n",
        "* Mérida = 892 363 habitantes.\n",
        "\n",
        "\n",
        "*Superficie:*\n",
        "\n",
        "\n",
        "\n",
        "*   México = 1 960 189 km²\n",
        "*   Yucatán = 43,379 km²\n",
        "*   Mérida = 1528 km²\n",
        "\n",
        "¿Cuál es la densidad poblacional?\n",
        "\n",
        "\n",
        "\n",
        "\n",
        "\n",
        "\n",
        "\n",
        "\n",
        "\n",
        "\n",
        "\n",
        "\n",
        "\n",
        "\n"
      ]
    },
    {
      "cell_type": "code",
      "metadata": {
        "id": "SwGfNu9rNr6b",
        "colab_type": "code",
        "colab": {
          "base_uri": "https://localhost:8080/",
          "height": 68
        },
        "outputId": "b4ff500b-0cff-42e6-85c3-0dfa7853f0ad"
      },
      "source": [
        "populationMx = 119938473;\n",
        "\n",
        "def densidad_poblacional(poblacion, area_ciudad):\n",
        "  return poblacion / area_ciudad\n",
        "\n",
        "densityMx = densidad_poblacional(populationMx, 1960189)\n",
        "densityYuc = densidad_poblacional(2097175, 43379)\n",
        "densityMid = densidad_poblacional(892363, 1528)\n",
        "\n",
        "\n",
        "# print results\n",
        "print(\"Densidad en México = {} hab/km²\".format(densityMx))\n",
        "print(\"Densidad en Yucatán = {} hab/km²\".format(densityYuc))\n",
        "print(\"Densidad en Mérida = {} hab/km²\".format(densityMid))\n"
      ],
      "execution_count": 5,
      "outputs": [
        {
          "output_type": "stream",
          "text": [
            "Densidad en México = 61.18719827526835 hab/km²\n",
            "Densidad en Yucatán = 48.34539754258973 hab/km²\n",
            "Densidad en Mérida = 584.0071989528795 hab/km²\n"
          ],
          "name": "stdout"
        }
      ]
    },
    {
      "cell_type": "markdown",
      "metadata": {
        "id": "e2dn6FJUmpda",
        "colab_type": "text"
      },
      "source": [
        "¿Qué pasa al comparar varios estados o ciudades?\n",
        "\n",
        "A medida que comparamos las ciudades sobre los estados, es posible observar que estas (las ciudades) concentran una gran cantidad de población.\n",
        "\n",
        "\n",
        "# Segundo:\n",
        "\n",
        "De acuerdo al sitio transparencia presupuestaria del gobierno de México, en el 2018 se tuvo *737,720.1* y en 2019 *746,742.8* millones de pesos respectivamente.\n"
      ]
    },
    {
      "cell_type": "code",
      "metadata": {
        "id": "me9MR2NH3HYM",
        "colab_type": "code",
        "colab": {
          "base_uri": "https://localhost:8080/",
          "height": 68
        },
        "outputId": "63ccd907-f927-4407-acdf-5790dd25ada1"
      },
      "source": [
        "def gasto_percapita(gasto, poblacion):\n",
        "  return gasto / poblacion\n",
        "\n",
        "edu2018 = gasto_percapita(737720.1, populationMx)\n",
        "edu2019 = gasto_percapita(746742.8, populationMx)\n",
        "\n",
        "porcentaje = (edu2019 - edu2018) / edu2018 * 100\n",
        "\n",
        "print(\"Gasto percapita en el 2018 = {}\".format(edu2018))\n",
        "print(\"Gasto percapita en el 2019 = {}\".format(edu2019))\n",
        "print(\"Porcentaje = {}\".format(porcentaje))\n",
        "\n"
      ],
      "execution_count": 9,
      "outputs": [
        {
          "output_type": "stream",
          "text": [
            "Gasto percapita en el 2018 = 0.006150821179789407\n",
            "Gasto percapita en el 2019 = 0.006226048917597943\n",
            "Porcentaje = 1.2230519407021851\n"
          ],
          "name": "stdout"
        }
      ]
    },
    {
      "cell_type": "markdown",
      "metadata": {
        "id": "lh4mnn0D5S_k",
        "colab_type": "text"
      },
      "source": [
        "**¿En qué porcentaje aumentó o disminuyó?**\n",
        "\n",
        "Aumentó un 1.22% con respecto al 2018.\n",
        "\n",
        "**¿A qué crees que se deba?**\n",
        "\n",
        "Pienso que el aumento fue tan minimo que podriamos decir que se mantuvo constante, y puedo decir que es el esquema de trabajo del actual gobierno, dado que se encontraba en la fase de austeridad republicana.\n",
        "\n",
        "\n",
        "# Tercero:\n",
        "\n",
        "**¿Para qué crees que nos pueda ser útil esta información?**\n",
        "\n",
        "De un simple vistazo puede ser posible ver cuales son los objetivos del gobierno que se analice.\n",
        "\n",
        "**¿Qué decisiones podría tomar el gobierno basado en ésta?**\n",
        "\n",
        "Bueno, creo que el gobierno podría replantear estratégias que no le funcionaron en el pasado y corregirlas.\n",
        "\n",
        "\n",
        "\n",
        "\n",
        "\n"
      ]
    }
  ]
}